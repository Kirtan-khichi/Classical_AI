{
 "cells": [
  {
   "cell_type": "code",
   "execution_count": 65,
   "metadata": {},
   "outputs": [],
   "source": [
    "import json"
   ]
  },
  {
   "cell_type": "code",
   "execution_count": 66,
   "metadata": {},
   "outputs": [
    {
     "name": "stdout",
     "output_type": "stream",
     "text": [
      "-------------------\n",
      "|  N  |  N  |  N  |\n",
      "-------------------\n",
      "|  N  |  N  |  O  |\n",
      "-------------------\n",
      "|  N  |  N  |  N  |\n",
      "-------------------\n"
     ]
    }
   ],
   "source": [
    "def display_state(state):\n",
    "    print('-------------------')\n",
    "    print('| ', state[0], ' | ', state[1], ' | ', state[2], ' |')\n",
    "    print('-------------------')\n",
    "    print('| ', state[3], ' | ', state[4], ' | ', state[5], ' |')\n",
    "    print('-------------------')\n",
    "    print('| ', state[6], ' | ', state[7], ' | ', state[8], ' |')\n",
    "    print('-------------------')\n",
    "\n",
    "display_state('NNNNNONNN')"
   ]
  },
  {
   "cell_type": "code",
   "execution_count": 67,
   "metadata": {},
   "outputs": [
    {
     "name": "stdout",
     "output_type": "stream",
     "text": [
      "(False, 0)\n"
     ]
    }
   ],
   "source": [
    "def terminal(state):\n",
    "\n",
    "    #### Horizontal ####\n",
    "    if state[0] == state[1] == state[2] == 'O':\n",
    "        return (True, 1)\n",
    "    \n",
    "    if state[0] == state[1] == state[2] == 'X':\n",
    "        return (True, -1)\n",
    "    \n",
    "    if state[3] == state[4] == state[5] == 'O':\n",
    "        return (True, 1)\n",
    "    \n",
    "    if state[3] == state[4] == state[5] == 'X':\n",
    "        return (True, -1)\n",
    "    \n",
    "    if state[6] == state[7] == state[8] == 'O':\n",
    "        return (True, 1)\n",
    "    \n",
    "    if state[6] == state[7] == state[8] == 'X':\n",
    "        return (True, -1)\n",
    "    \n",
    "\n",
    "    #### vertical ####\n",
    "\n",
    "    if state[0] == state[3] == state[6] == 'O':\n",
    "        return (True, 1)\n",
    "    \n",
    "    if state[0] == state[3] == state[6] == 'X':\n",
    "        return (True, -1)\n",
    "    \n",
    "    if state[1] == state[4] == state[7] == 'O':\n",
    "        return (True, 1)\n",
    "    \n",
    "    if state[1] == state[4] == state[7] == 'X':\n",
    "        return (True, -1)\n",
    "    \n",
    "    if state[2] == state[5] == state[8] == 'O':\n",
    "        return (True, 1)\n",
    "    \n",
    "    if state[2] == state[5] == state[8] == 'X':\n",
    "        return (True, -1)\n",
    "    \n",
    "\n",
    "    #### Diagonal ####\n",
    "\n",
    "    if state[0] == state[4] == state[8] == 'O':\n",
    "        return (True, 1)\n",
    "    \n",
    "    if state[0] == state[4] == state[8] == 'X':\n",
    "        return (True, -1)\n",
    "    \n",
    "    if state[2] == state[4] == state[6] == 'O':\n",
    "        return (True, 1)\n",
    "    \n",
    "    if state[2] == state[4] == state[6] == 'X':\n",
    "        return (True, -1)\n",
    "    \n",
    "\n",
    "    for row in state:\n",
    "        if row == 'N':\n",
    "            return (False, 0)\n",
    "        \n",
    "    return (True, 0)\n",
    "    \n",
    "\n",
    "print(terminal('NNNOXOONN'))"
   ]
  },
  {
   "cell_type": "code",
   "execution_count": 68,
   "metadata": {},
   "outputs": [
    {
     "name": "stdout",
     "output_type": "stream",
     "text": [
      "True\n"
     ]
    }
   ],
   "source": [
    "def is_terminal(state):\n",
    "    return terminal(state)[0]\n",
    "\n",
    "print(is_terminal('XNNXXOONX'))"
   ]
  },
  {
   "cell_type": "code",
   "execution_count": 69,
   "metadata": {},
   "outputs": [
    {
     "name": "stdout",
     "output_type": "stream",
     "text": [
      "1\n"
     ]
    }
   ],
   "source": [
    "def scoreEvaluator(state):\n",
    "\n",
    "    return terminal(state)[1]\n",
    "\n",
    "print(scoreEvaluator('NNNOOOONN'))"
   ]
  },
  {
   "cell_type": "code",
   "execution_count": 70,
   "metadata": {},
   "outputs": [
    {
     "name": "stdout",
     "output_type": "stream",
     "text": [
      "ONNNNNNNN\n"
     ]
    }
   ],
   "source": [
    "def stateGenerator(intial_state, pos, player):\n",
    "    state = \"\"\n",
    "    for i, row in enumerate(intial_state):\n",
    "        if row != 'X' and row != 'O' and i == pos:\n",
    "            state += player\n",
    "        else:\n",
    "            state += row\n",
    "\n",
    "    return state\n",
    "\n",
    "print(stateGenerator('ONNNNNNNN', 0, 'X'))"
   ]
  },
  {
   "cell_type": "code",
   "execution_count": null,
   "metadata": {},
   "outputs": [],
   "source": [
    "def tic_tac_toe_tree(state, player):\n",
    "    if is_terminal(state):\n",
    "        return {\n",
    "            'current_state' : state, \n",
    "            'player' : player,\n",
    "            'score' : scoreEvaluator(state)\n",
    "        }\n",
    "    \n",
    "    tree = {\n",
    "        'current_state' : state,\n",
    "        'player' : player,\n",
    "        \"score\" : None,\n",
    "        'children' : []\n",
    "    }\n",
    "\n",
    "    for i, row in enumerate(state):\n",
    "        if row == 'N':\n",
    "            state1 = stateGenerator(state, i, player)\n",
    "\n",
    "            child_tree = tic_tac_toe_tree(state1, 'O' if player == 'X' else 'X')\n",
    "            tree['children'].append(child_tree)\n",
    "\n",
    "    if player == 'O':\n",
    "        tree['score'] = max(child['score'] for child in tree['children'])\n",
    "\n",
    "    if player == 'X':\n",
    "        tree['score'] = min(child['score'] for child in tree['children'])\n",
    "\n",
    "    return tree\n",
    "\n",
    "initial_state = 'NNNNNNNNN'\n",
    "game_tree = tic_tac_toe_tree(initial_state, 'O')"
   ]
  },
  {
   "cell_type": "code",
   "execution_count": 73,
   "metadata": {},
   "outputs": [],
   "source": [
    "graph = {}\n",
    "\n",
    "def tree_to_graph(dic):\n",
    "    state = dic['current_state']\n",
    "    score = dic['score']\n",
    "\n",
    "    if state not in graph:\n",
    "        graph[state] = score\n",
    "\n",
    "    if state in graph:\n",
    "        if graph[state] >= score:\n",
    "            pass\n",
    "\n",
    "        if graph[state] < score:\n",
    "            graph[state] = score\n",
    "\n",
    "    if is_terminal(state):\n",
    "        return\n",
    "    \n",
    "    for row in dic['children']:\n",
    "        tree_to_graph(row)\n",
    "\n",
    "    return\n",
    "tree_to_graph(game_tree)\n"
   ]
  },
  {
   "cell_type": "code",
   "execution_count": 75,
   "metadata": {},
   "outputs": [],
   "source": [
    "with open('MiniMax_graph.json', 'w') as f:\n",
    "    json.dump(graph, f)"
   ]
  },
  {
   "cell_type": "code",
   "execution_count": 77,
   "metadata": {},
   "outputs": [],
   "source": [
    "def computer_move(player_state):\n",
    "\n",
    "    possible_state_lst = []\n",
    "\n",
    "    for i, row in enumerate(player_state):\n",
    "        # state = copy.deepcopy(player_state)\n",
    "        if row == \"N\":\n",
    "            next_state = stateGenerator(player_state, i, 'X')\n",
    "\n",
    "            possible_state_lst.append(next_state)\n",
    "    # print(possible_state_lst)\n",
    "\n",
    "\n",
    "    best_value = float(\"inf\")\n",
    "    best_move = player_state\n",
    "\n",
    "    for k in possible_state_lst:\n",
    "        # print(k, 'k',graph[k], graph)\n",
    "        if k in graph and graph[k] < best_value:\n",
    "\n",
    "            best_value = graph[k]\n",
    "            # print('g', best_value)\n",
    "            best_move = k\n",
    "\n",
    "    return best_move"
   ]
  },
  {
   "cell_type": "code",
   "execution_count": null,
   "metadata": {},
   "outputs": [],
   "source": [
    "next_state = 'NNNNNNNNN'\n",
    "\n",
    "# next_state = computer_move(next_state)\n",
    "display_state(next_state)\n",
    "\n",
    "lst = []\n",
    "\n",
    "while True:\n",
    "\n",
    "    if is_terminal(next_state):\n",
    "        if scoreEvaluator(next_state) == 1:\n",
    "            print('player O wins')\n",
    "\n",
    "        if scoreEvaluator(next_state) == -1:\n",
    "            print('PLayer X wins')\n",
    "\n",
    "        if scoreEvaluator(next_state) == 0:\n",
    "            print('game is draw!')\n",
    "\n",
    "        break\n",
    "\n",
    "    index = int(input('Enter the the number between 0 to 8: '))\n",
    "\n",
    "    next_state = stateGenerator(next_state, index, 'O')\n",
    "    next_state = computer_move(next_state)\n",
    "    display_state(next_state)"
   ]
  },
  {
   "cell_type": "code",
   "execution_count": null,
   "metadata": {},
   "outputs": [],
   "source": []
  }
 ],
 "metadata": {
  "kernelspec": {
   "display_name": "Python 3 (ipykernel)",
   "language": "python",
   "name": "python3"
  },
  "language_info": {
   "codemirror_mode": {
    "name": "ipython",
    "version": 3
   },
   "file_extension": ".py",
   "mimetype": "text/x-python",
   "name": "python",
   "nbconvert_exporter": "python",
   "pygments_lexer": "ipython3",
   "version": "3.11.3"
  }
 },
 "nbformat": 4,
 "nbformat_minor": 2
}
