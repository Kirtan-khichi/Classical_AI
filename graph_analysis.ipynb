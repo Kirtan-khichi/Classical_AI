{
 "cells": [
  {
   "cell_type": "markdown",
   "metadata": {},
   "source": [
    "# Graph Analysis\n",
    "\n",
    "### This notebook focuses on the analysis of graphs, diving into various aspects such as node and edge examination, node behavior (whether directed or undirected), and the creation of adjacency lists and matrices.\n"
   ]
  },
  {
   "cell_type": "markdown",
   "metadata": {},
   "source": [
    "<!-- ![Node_edge_Image](node_edge.png) -->\n",
    "\n",
    "<img src = node_edge.png alt = 'Node_edge_image'>\n",
    "\n",
    "\n",
    "### In this picture we can see that what is the node and what is the edge in the graph.\n",
    "\n",
    "### In the code snippet below (👇), I've written a script to calculate the total count of unique nodes and edges within the graph."
   ]
  },
  {
   "cell_type": "code",
   "execution_count": 2,
   "metadata": {},
   "outputs": [],
   "source": [
    "file = open(\"C:/Users/kirtan/Downloads/congress_network/congress_network/congress.edgelist\")\n",
    "\n",
    "edge = 0\n",
    "\n",
    "node_list = []\n",
    "\n",
    "for line in file:\n",
    "    edge += 1\n",
    "    data = line.split()\n",
    "    if not data[0] in node_list:\n",
    "        node_list.append(data[0])\n",
    "\n",
    "    if not data[1] in node_list:\n",
    "        node_list.append(data[1])\n"
   ]
  },
  {
   "cell_type": "code",
   "execution_count": 3,
   "metadata": {},
   "outputs": [
    {
     "name": "stdout",
     "output_type": "stream",
     "text": [
      "475\n",
      "13289\n"
     ]
    }
   ],
   "source": [
    "print(len(node_list))\n",
    "print(edge)"
   ]
  },
  {
   "cell_type": "markdown",
   "metadata": {},
   "source": [
    "<!-- ![directed_undirected](directed_undirected.jpeg) -->\n",
    "\n",
    "<img src = directed_undirected.jpeg alt = 'directed_undirected_image'>\n",
    "\n",
    "### As you can see in the figure that if we have a opportunity to travel from one node to another node and vice-versa then we call that edge as Undirected. If we have a one way then we call it directed edge.\n",
    "\n",
    "### In the below(👇) code snippet, we are storing that this edge is directed or not in the dictionary.\n"
   ]
  },
  {
   "cell_type": "code",
   "execution_count": 4,
   "metadata": {},
   "outputs": [],
   "source": [
    "file = open(\"C:/Users/kirtan/Downloads/congress_network/congress_network/congress.edgelist\")\n",
    "\n",
    "\n",
    "graph_behaviour_list = []\n",
    "for line in file:\n",
    "    graph_behaviour_list.append([line.split()[0], line.split()[1]])"
   ]
  },
  {
   "cell_type": "code",
   "execution_count": 5,
   "metadata": {},
   "outputs": [],
   "source": [
    "behaviour_dic = {}\n",
    "\n",
    "for data in graph_behaviour_list:\n",
    "    if [data[1], data[0]] in graph_behaviour_list:\n",
    "        behaviour_dic[str(data)] = 'Undirected'\n",
    "\n",
    "    else:\n",
    "        behaviour_dic[str(data)] = 'Directed'"
   ]
  },
  {
   "cell_type": "code",
   "execution_count": 11,
   "metadata": {},
   "outputs": [],
   "source": [
    "# behaviour_dic"
   ]
  },
  {
   "cell_type": "markdown",
   "metadata": {},
   "source": [
    "### Degree means the number of connection of nodes from one node is called degree.\n",
    "\n",
    "#### I stored degree in the dictionary form and the value of that is the elemnts's connected to that dictionary."
   ]
  },
  {
   "cell_type": "code",
   "execution_count": 7,
   "metadata": {},
   "outputs": [],
   "source": [
    "degree_dic = {}\n",
    "\n",
    "for key in node_list:\n",
    "    file = open(\"C:/Users/kirtan/Downloads/congress_network/congress_network/congress.edgelist\")\n",
    "\n",
    "    lst = []\n",
    "    for data in file:\n",
    "        datas = data.split()\n",
    "\n",
    "        if key == datas[0]:\n",
    "            lst.append(datas[1])\n",
    "\n",
    "    degree_dic[key] = lst\n",
    "\n"
   ]
  },
  {
   "cell_type": "markdown",
   "metadata": {},
   "source": [
    "##### An adjacency matrix is a representation of a graph using a two-dimensional matrix. In this matrix, rows and columns correspond to nodes in the graph. The value at the intersection of row i and column j indicates whether there is an edge between nodes i and j.\n",
    "\n",
    "* If there is an edge between nodes i and j, the corresponding matrix cell contains a non-zero value (usually 1), indicating the presence of the edge.\n",
    "* If there is no edge between nodes i and j, the corresponding matrix cell contains a zero."
   ]
  },
  {
   "cell_type": "code",
   "execution_count": 8,
   "metadata": {},
   "outputs": [],
   "source": [
    "file = open(\"C:/Users/kirtan/Downloads/congress_network/congress_network/congress.edgelist\")\n",
    "\n",
    "adj_matrix = [[0] * len(node_list) for _ in range(len(node_list))]\n",
    "\n",
    "for data in file:\n",
    "    datas = data.split()\n",
    "    x = datas[0]\n",
    "    y = datas[1]\n",
    "\n",
    "    adj_matrix[int(x)][int(y)] = 1\n",
    "    adj_matrix[int(y)][int(x)] = 1"
   ]
  },
  {
   "cell_type": "code",
   "execution_count": 10,
   "metadata": {},
   "outputs": [],
   "source": [
    "# for i in adj_matrix:\n",
    "    # print(i)"
   ]
  }
 ],
 "metadata": {
  "kernelspec": {
   "display_name": "Python 3 (ipykernel)",
   "language": "python",
   "name": "python3"
  },
  "language_info": {
   "codemirror_mode": {
    "name": "ipython",
    "version": 3
   },
   "file_extension": ".py",
   "mimetype": "text/x-python",
   "name": "python",
   "nbconvert_exporter": "python",
   "pygments_lexer": "ipython3",
   "version": "3.11.3"
  }
 },
 "nbformat": 4,
 "nbformat_minor": 2
}
