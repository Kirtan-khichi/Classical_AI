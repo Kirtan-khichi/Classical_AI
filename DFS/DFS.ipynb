{
 "cells": [
  {
   "cell_type": "markdown",
   "metadata": {},
   "source": [
    "<center> <h1> Depth-First Search (DFS) Algorithm </h1> </center>"
   ]
  },
  {
   "cell_type": "markdown",
   "metadata": {},
   "source": [
    "Depth-First Search (DFS) is a fundamental graph traversal and search algorithm used to explore and analyze graphs and trees. In this algorithm search the graph or tree in depth first.\n",
    "\n",
    "Explanation by example:- (Frankfurt -> NUmberg)\n",
    "* We begin our journey at Frankfurt, our initial node.\n",
    "* We check the connected nodes to Frankfurt. We find Mannheim, Wurzburg, and Kassel nodes.\n",
    "* We pick Mannheim as our next destination since it's connected to Frankfurt.\n",
    "* Now, we explore the cities connected to Mannheim. We find Frankfurt and Karlsruhe.\n",
    "* We pick Karlsruhe as our next node because have already visited Frankfurt.\n",
    "* Now, again we explore the connected cities to Karsruhe. We find Mannheim and Ausburg.\n",
    "* We pick Ausburg. Now there no way to go ahead so we start back-tracking.\n",
    "* We do back-tracking like Ausburg -> Karlsruhe -> Mannheim -> Frankfurt.\n",
    "* Now, we have a second node Wurzburg connected to Frankfurt.\n",
    "* We pick Wurgburg as a node. We find Numberg and Erfurt as connected nodes.\n",
    "* Now we pick Numberg as a connected node.\n",
    "* Wow (😀😀) we reach at our location. Our path is Frankfurt -> Wurgburg -> Numberg.\n"
   ]
  },
  {
   "cell_type": "markdown",
   "metadata": {},
   "source": [
    "<center> <img src=cities.jpg width = 700> </center>\n",
    "<!-- ![Node_edge_Image](cities.jpg) -->"
   ]
  },
  {
   "cell_type": "markdown",
   "metadata": {},
   "source": [
    "## Adjancy list"
   ]
  },
  {
   "cell_type": "code",
   "execution_count": 11,
   "metadata": {},
   "outputs": [],
   "source": [
    "adj_lst = {\"Frankfurt\": [\"Mannhein\", \"Wurzburg\", \"Kassel\"], \n",
    "           \"Mannhein\": [\"Frankfurt\", \"Karlsruhe\"], \n",
    "           \"Wurzburg\": [\"Frankfurt\", \"Numberg\", \"Erfurt\"], \n",
    "           \"Kassel\": [\"Frankfurt\", \"Munchen\"], \n",
    "           \"Karlsruhe\": [\"Mannhein\", \"Ausburg\"], \n",
    "           \"Numberg\": [\"Wurzburg\", \"Stuttgart\"], \n",
    "           \"Erfurt\": [\"Wurzburg\"], \"Munchen\": [\"Kassel\"], \n",
    "           \"Ausburg\": [\"Karlsruhe\"], \"Stuttgart\": [\"Numberg\"]}\n"
   ]
  },
  {
   "cell_type": "markdown",
   "metadata": {},
   "source": [
    "## Traversing the tree full tree by singal node."
   ]
  },
  {
   "cell_type": "code",
   "execution_count": 12,
   "metadata": {},
   "outputs": [
    {
     "name": "stdout",
     "output_type": "stream",
     "text": [
      "Wurzburg\n",
      "Frankfurt\n",
      "Mannhein\n",
      "Karlsruhe\n",
      "Ausburg\n",
      "Kassel\n",
      "Munchen\n",
      "Numberg\n",
      "Stuttgart\n",
      "Erfurt\n"
     ]
    }
   ],
   "source": [
    "visited_lst = [] # We created a accumalator to keep the track of visited nodes.\n",
    "def DFS(node):\n",
    "    global visited_lst, adj_lst\n",
    "    if node not in visited_lst:\n",
    "        print(node)\n",
    "        visited_lst.append(node)\n",
    "\n",
    "        # We are approching recursive algorithm on connected nodes.\n",
    "        for i in adj_lst[node]:\n",
    "            DFS(i)\n",
    "\n",
    "DFS('Wurzburg')"
   ]
  },
  {
   "cell_type": "markdown",
   "metadata": {},
   "source": [
    "## Traversing the tree between two nodes"
   ]
  },
  {
   "cell_type": "code",
   "execution_count": 13,
   "metadata": {},
   "outputs": [
    {
     "name": "stdout",
     "output_type": "stream",
     "text": [
      "Frankfurt\n",
      "Mannhein\n",
      "Karlsruhe\n",
      "Ausburg\n",
      "Wurzburg\n",
      "Numberg\n",
      "Stuttgart\n",
      "Erfurt\n"
     ]
    }
   ],
   "source": [
    "visited_lst = []\n",
    "def DFS_SEARCH(node, node2):\n",
    "    global visited_lst, adj_lst\n",
    "\n",
    "    # If we find target node(node2) in visited list then we have to stop there.\n",
    "    if node2 in visited_lst:\n",
    "        return\n",
    "    \n",
    "    # If node is not visited by us then we append that node in visted node.\n",
    "    if node not in visited_lst:\n",
    "        visited_lst.append(node)\n",
    "        print(node)\n",
    "\n",
    "        # We are following recursive algorithm on the connected nodes.\n",
    "        for i in adj_lst[node]:\n",
    "            DFS_SEARCH(i, node2)\n",
    "                      \n",
    "DFS_SEARCH('Frankfurt', 'Erfurt')"
   ]
  },
  {
   "cell_type": "markdown",
   "metadata": {},
   "source": [
    "## Finding the path between two nodes"
   ]
  },
  {
   "cell_type": "code",
   "execution_count": 14,
   "metadata": {},
   "outputs": [
    {
     "name": "stdout",
     "output_type": "stream",
     "text": [
      "Visiting node: Ausburg\n",
      "Visiting node: Karlsruhe\n",
      "Visiting node: Mannhein\n",
      "Visiting node: Frankfurt\n",
      "Visiting node: Wurzburg\n",
      "Visiting node: Numberg\n",
      "Visiting node: Stuttgart\n",
      "Visiting node: Erfurt\n",
      "Visiting node: Kassel\n",
      "Paths from Ausburg to Kassel: Ausburg -> Karlsruhe -> Mannhein -> Frankfurt -> Kassel\n"
     ]
    }
   ],
   "source": [
    "# Initialize an accumulator to keep track of visited nodes.\n",
    "visited_lst = []\n",
    "\n",
    "# Initialize a list to store found paths.\n",
    "path_lst = []\n",
    "\n",
    "# Depth-First Search (DFS) function to find a path between two nodes.\n",
    "def DFS_PATH(node, node2, path=[]):\n",
    "    global visited_lst, path_lst\n",
    "\n",
    "    # If the destination node (node2) has already been visited, return.\n",
    "    if node2 in visited_lst:\n",
    "        return\n",
    "\n",
    "    # Check if the current node has not been visited yet.\n",
    "    if node not in visited_lst:\n",
    "        # Print the current node as it's being visited.\n",
    "        print(\"Visiting node:\", node)\n",
    "\n",
    "        # Mark the current node as visited and add it to the path.\n",
    "        visited_lst.append(node)\n",
    "        path.append(node)\n",
    "\n",
    "        # If we have reached the destination node, add the current path to the list of found paths.\n",
    "        if node == node2:\n",
    "            path_lst.append(path.copy())\n",
    "            return\n",
    "\n",
    "        # Recursively explore the connected nodes.\n",
    "        for neighbor in adj_lst[node]:\n",
    "            DFS_PATH(neighbor, node2, path)\n",
    "\n",
    "        # Backtrack by removing the last node from the path.\n",
    "        path.pop()\n",
    "\n",
    "start_node = 'Ausburg'\n",
    "target_node = 'Kassel'\n",
    "\n",
    "# Start DFS_PATH from start_node to target_node and find all paths.\n",
    "DFS_PATH(start_node, target_node)\n",
    "\n",
    "# Print the found paths.\n",
    "print(f\"Paths from {start_node} to {target_node}:\", \" -> \".join(path_lst[0]))\n"
   ]
  },
  {
   "cell_type": "markdown",
   "metadata": {},
   "source": [
    "# Analysing the DFS by graph data"
   ]
  },
  {
   "cell_type": "markdown",
   "metadata": {},
   "source": [
    "* I used the standford dataset to analysis the DFS for graph. Link to the dataset (<a href = 'https://snap.stanford.edu/data/congress-twitter.html' >Click here(🫵) for the dataset</a>)"
   ]
  },
  {
   "cell_type": "code",
   "execution_count": 15,
   "metadata": {},
   "outputs": [],
   "source": [
    "# Storing the node pair data in the list.\n",
    "node_pair_lst = []\n",
    "\n",
    "# Opening the file.\n",
    "file = open(\"C:/Users/kirtan/Downloads/congress_network/congress_network/congress.edgelist\")\n",
    "\n",
    "\n",
    "for i in file:\n",
    "    datas = i.split()\n",
    "\n",
    "    # Just appending node-pairs in the list.\n",
    "    node_pair_lst.append([datas[0], datas[1]])"
   ]
  },
  {
   "cell_type": "code",
   "execution_count": 16,
   "metadata": {},
   "outputs": [],
   "source": [
    "file = open(\"C:/Users/kirtan/Downloads/congress_network/congress_network/congress.edgelist\")\n",
    "\n",
    "node_list = []\n",
    "\n",
    "for line in file:\n",
    "    data = line.split()\n",
    "    if not data[0] in node_list:\n",
    "        node_list.append(data[0])\n",
    "\n",
    "    if not data[1] in node_list:\n",
    "        node_list.append(data[1])\n"
   ]
  },
  {
   "cell_type": "code",
   "execution_count": 17,
   "metadata": {},
   "outputs": [],
   "source": [
    "# Initialize an accumulator for the adjacency list.\n",
    "adj_lst = {} \n",
    "\n",
    "# Loop through each node in the node_list to create adjacency lists.\n",
    "for key in node_list:\n",
    "    # Initialize an empty list to store neighbors of the current node.\n",
    "    lst = []\n",
    "\n",
    "    # Iterate through node_pair_lst to find connections with the current node (key).\n",
    "    for data in node_pair_lst:\n",
    "        # Check if the current node matches the first element of a pair in node_pair_lst.\n",
    "        if key == data[0]:\n",
    "            # If there's a match, add the second element of the pair (neighbor) to the list.\n",
    "            lst.append(data[1])\n",
    "\n",
    "    # Assign the list of neighbors (adjacency list) to the current node in adj_lst.\n",
    "    adj_lst[key] = lst\n"
   ]
  },
  {
   "cell_type": "code",
   "execution_count": 18,
   "metadata": {},
   "outputs": [
    {
     "name": "stdout",
     "output_type": "stream",
     "text": [
      "Path from 0 to 15 :  0 -> 4 -> 3 -> 8 -> 13 -> 2 -> 9 -> 10 -> 11 -> 1 -> 15\n"
     ]
    }
   ],
   "source": [
    "# Initialize an accumulator to keep track of visited nodes.\n",
    "visited_lst = []\n",
    "\n",
    "# Initialize a list to store found paths.\n",
    "path_lst = []\n",
    "\n",
    "# Depth-First Search (DFS) function to find a path between two nodes.\n",
    "def DFS_PATH(node, node2, path=[]):\n",
    "    global visited_lst, path_lst\n",
    "\n",
    "    # If the destination node (node2) has already been visited, return.\n",
    "    if node2 in visited_lst:\n",
    "        return\n",
    "\n",
    "    # Check if the current node has not been visited yet.\n",
    "    if node not in visited_lst:\n",
    "        # Print the current node as it's being visited.\n",
    "        # print(\"Visiting node:\", node)\n",
    "\n",
    "        # Mark the current node as visited and add it to the path.\n",
    "        visited_lst.append(node)\n",
    "        path.append(node)\n",
    "\n",
    "        # If we have reached the destination node, add the current path to the list of found paths.\n",
    "        if node == node2:\n",
    "            path_lst.append(path.copy())\n",
    "            return\n",
    "\n",
    "        # Recursively explore the connected nodes.\n",
    "        for neighbor in adj_lst[node]:\n",
    "            DFS_PATH(neighbor, node2, path)\n",
    "\n",
    "        # Backtrack by removing the last node from the path.\n",
    "        path.pop()\n",
    "\n",
    "start_node = '0'\n",
    "target_node = '15'\n",
    "\n",
    "DFS_PATH(start_node, target_node)\n",
    "\n",
    "# Print the found paths.\n",
    "print(f\"Path from {start_node} to {target_node} : \", \" -> \".join(path_lst[0]))\n"
   ]
  }
 ],
 "metadata": {
  "kernelspec": {
   "display_name": "Python 3 (ipykernel)",
   "language": "python",
   "name": "python3"
  },
  "language_info": {
   "codemirror_mode": {
    "name": "ipython",
    "version": 3
   },
   "file_extension": ".py",
   "mimetype": "text/x-python",
   "name": "python",
   "nbconvert_exporter": "python",
   "pygments_lexer": "ipython3",
   "version": "3.11.3"
  }
 },
 "nbformat": 4,
 "nbformat_minor": 2
}
